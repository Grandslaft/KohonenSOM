{
 "cells": [
  {
   "cell_type": "markdown",
   "metadata": {},
   "source": [
    "# Import"
   ]
  },
  {
   "cell_type": "markdown",
   "metadata": {},
   "source": [
    "## import packages"
   ]
  },
  {
   "cell_type": "code",
   "execution_count": null,
   "metadata": {},
   "outputs": [],
   "source": [
    "import numpy as np\n",
    "import pandas as pd\n",
    "\n",
    "import matplotlib.pyplot as plt\n",
    "import plotly.graph_objects as go\n",
    "\n",
    "from sklearn.datasets import load_digits\n",
    "from sklearn.model_selection import train_test_split\n",
    "\n",
    "from modules.layers import hamming_layer, maxnet_layer, kohonen_layer\n",
    "from modules.HammingNN import Hamming_NN\n",
    "from modules.KohonenSOM import KohonenSOM"
   ]
  },
  {
   "cell_type": "markdown",
   "metadata": {},
   "source": [
    "## import data"
   ]
  },
  {
   "cell_type": "code",
   "execution_count": null,
   "metadata": {},
   "outputs": [],
   "source": [
    "# Forgor how to choose dimensions for reshape, but I will change \n",
    "# do something about this next time I'll use this code... No promise tho \n",
    "def show(array, NM, title = False, size = (10, 5)):\n",
    "    n, m = NM\n",
    "    fig, axs = plt.subplots(n, m, figsize=size)\n",
    "    array_to_plot = array.reshape((n, m) + array.shape[1:])\n",
    "    for i in range(n):\n",
    "        for j in range(m):\n",
    "            axs[i,j].imshow(array_to_plot[i,j], cmap='Greys')\n",
    "            if title:\n",
    "                axs[i,j].title.set_text((i*m) + j)"
   ]
  },
  {
   "cell_type": "code",
   "execution_count": null,
   "metadata": {},
   "outputs": [],
   "source": [
    "def load_data(num_type, threshold = 0.5):\n",
    "    if num_type == 'digits':\n",
    "        dim = 8\n",
    "        digits = load_digits()\n",
    "        X = digits.data / digits.data.max(axis = 1, keepdims = True) >= threshold\n",
    "        Y = digits.target\n",
    "\n",
    "    elif num_type == 'mnist':\n",
    "        dim = 28\n",
    "        data = pd.read_csv(\"./data/train.csv\").to_numpy()\n",
    "        X = data[:, 1:] / 255. >= threshold\n",
    "        Y = data[:, 0]\n",
    "    return X, Y, dim\n",
    "\n",
    "X, Y, dim = load_data('mnist', 0.5)\n",
    "\n",
    "X_train, X_test, y_train, y_test = train_test_split(X, Y, test_size=0.2, random_state=101)"
   ]
  },
  {
   "cell_type": "markdown",
   "metadata": {},
   "source": [
    "# Creating a model"
   ]
  },
  {
   "cell_type": "code",
   "execution_count": null,
   "metadata": {},
   "outputs": [],
   "source": [
    "SOM = KohonenSOM(kohonen_layer(dim * dim, 1))\n",
    "\n",
    "SOM.train(X_train, epochs=10, lr=0.9, radius=5, lr_decay=0.4, r_decay=0.25, R_0 = 12.5)"
   ]
  },
  {
   "cell_type": "code",
   "execution_count": null,
   "metadata": {},
   "outputs": [],
   "source": [
    "SOM.layer.weights.shape"
   ]
  },
  {
   "cell_type": "code",
   "execution_count": null,
   "metadata": {},
   "outputs": [],
   "source": [
    "show(SOM.layer.weights.reshape(-1, dim, dim), NM = (2, 10), size = (20,10), title=True)"
   ]
  },
  {
   "cell_type": "code",
   "execution_count": null,
   "metadata": {},
   "outputs": [],
   "source": [
    "E = SOM.layer.weights[[16, 19, 17, 11, 9, 13, 3, 8, 7, 14]] >= 0.4\n",
    "show(E.reshape(-1, dim, dim), NM = (2, 5), size = (20,10))"
   ]
  },
  {
   "cell_type": "code",
   "execution_count": null,
   "metadata": {},
   "outputs": [],
   "source": [
    "# E = SOM.layer.weights\n",
    "\n",
    "M, N = E.shape\n",
    "        \n",
    "# activation functions:\n",
    "# ls, relu, sgelu, ssilu, smish\n",
    "layers = [\n",
    "    hamming_layer(N, M, activation=\"ls\"),\n",
    "    maxnet_layer(M, M, activation=\"ls\"),\n",
    "]\n",
    "\n",
    "model = Hamming_NN(layers, E)\n",
    "\n",
    "predictions = model.predict_class_separated(X_test, y_test, 100)"
   ]
  },
  {
   "cell_type": "code",
   "execution_count": null,
   "metadata": {},
   "outputs": [],
   "source": [
    "print(\"Size of the test array: {}\\nSum of false predictions: {}\".format(X_test.shape[0], np.sum(predictions[1])))"
   ]
  },
  {
   "cell_type": "code",
   "execution_count": null,
   "metadata": {},
   "outputs": [],
   "source": [
    "data = [\n",
    "    go.Bar(x = np.arange(10), y = (1 - predictions[0])*100),\n",
    "]\n",
    "\n",
    "layout = go.Layout(\n",
    "    height = 500,\n",
    "    title = dict(\n",
    "        text = 'Error on each mnist number',\n",
    "        font_size = 30,\n",
    "        x = .5\n",
    "    ),\n",
    "    xaxis = dict(nticks = 11),\n",
    "    xaxis_title = dict(\n",
    "        text = 'Number',\n",
    "        font_size = 20\n",
    "    ),\n",
    "    yaxis=dict(ticksuffix=\"%\"),\n",
    "    yaxis_title = dict(\n",
    "        text = 'Percentage of error, [%]',\n",
    "        font_size = 20\n",
    "    ),\n",
    ")\n",
    "go.Figure(data, layout)"
   ]
  }
 ],
 "metadata": {
  "kernelspec": {
   "display_name": "university",
   "language": "python",
   "name": "python3"
  },
  "language_info": {
   "codemirror_mode": {
    "name": "ipython",
    "version": 3
   },
   "file_extension": ".py",
   "mimetype": "text/x-python",
   "name": "python",
   "nbconvert_exporter": "python",
   "pygments_lexer": "ipython3",
   "version": "3.11.4"
  }
 },
 "nbformat": 4,
 "nbformat_minor": 2
}
